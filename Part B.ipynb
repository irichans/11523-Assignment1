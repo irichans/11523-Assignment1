{
 "cells": [
  {
   "cell_type": "markdown",
   "id": "4dd182e6-b36e-4395-bf63-2cfc8af55acf",
   "metadata": {},
   "source": [
    "# Part B - Predictive Modelling"
   ]
  },
  {
   "cell_type": "markdown",
   "id": "7f51feca-d433-4f3e-94e6-92a7ebbccb37",
   "metadata": {},
   "source": [
    "## Question 1 Feature Engineering"
   ]
  },
  {
   "cell_type": "code",
   "execution_count": 3,
   "id": "0d61e9a7-eb6c-468e-99fb-193967dc3569",
   "metadata": {},
   "outputs": [],
   "source": [
    "# Import the libraries\n",
    "import numpy as np\n",
    "import pandas as pd\n",
    "import matplotlib.pyplot as plt\n",
    "import seaborn as sns\n",
    "import os"
   ]
  },
  {
   "cell_type": "code",
   "execution_count": 4,
   "id": "9eb1648c-98a4-4122-9e53-ae2c51216b41",
   "metadata": {},
   "outputs": [
    {
     "data": {
      "text/html": [
       "<div>\n",
       "<style scoped>\n",
       "    .dataframe tbody tr th:only-of-type {\n",
       "        vertical-align: middle;\n",
       "    }\n",
       "\n",
       "    .dataframe tbody tr th {\n",
       "        vertical-align: top;\n",
       "    }\n",
       "\n",
       "    .dataframe thead th {\n",
       "        text-align: right;\n",
       "    }\n",
       "</style>\n",
       "<table border=\"1\" class=\"dataframe\">\n",
       "  <thead>\n",
       "    <tr style=\"text-align: right;\">\n",
       "      <th></th>\n",
       "      <th>address</th>\n",
       "      <th>cost</th>\n",
       "      <th>cuisine</th>\n",
       "      <th>lat</th>\n",
       "      <th>link</th>\n",
       "      <th>lng</th>\n",
       "      <th>phone</th>\n",
       "      <th>rating_number</th>\n",
       "      <th>rating_text</th>\n",
       "      <th>subzone</th>\n",
       "      <th>title</th>\n",
       "      <th>type</th>\n",
       "      <th>votes</th>\n",
       "      <th>groupon</th>\n",
       "      <th>color</th>\n",
       "      <th>cost_2</th>\n",
       "      <th>cuisine_color</th>\n",
       "    </tr>\n",
       "  </thead>\n",
       "  <tbody>\n",
       "    <tr>\n",
       "      <th>0</th>\n",
       "      <td>371A Pitt Street, CBD, Sydney</td>\n",
       "      <td>50.0</td>\n",
       "      <td>['Hot Pot', 'Korean BBQ', 'BBQ', 'Korean']</td>\n",
       "      <td>-33.876059</td>\n",
       "      <td>https://www.zomato.com/sydney/sydney-madang-cbd</td>\n",
       "      <td>151.207605</td>\n",
       "      <td>02 8318 0406</td>\n",
       "      <td>4.0</td>\n",
       "      <td>Very Good</td>\n",
       "      <td>CBD</td>\n",
       "      <td>Sydney Madang</td>\n",
       "      <td>['Casual Dining']</td>\n",
       "      <td>1311.0</td>\n",
       "      <td>False</td>\n",
       "      <td>#e15307</td>\n",
       "      <td>5.243902</td>\n",
       "      <td>#6f706b</td>\n",
       "    </tr>\n",
       "    <tr>\n",
       "      <th>1</th>\n",
       "      <td>Shop 7A, 2 Huntley Street, Alexandria, Sydney</td>\n",
       "      <td>80.0</td>\n",
       "      <td>['Cafe', 'Coffee and Tea', 'Salad', 'Poké']</td>\n",
       "      <td>-33.910999</td>\n",
       "      <td>https://www.zomato.com/sydney/the-grounds-of-a...</td>\n",
       "      <td>151.193793</td>\n",
       "      <td>02 9699 2225</td>\n",
       "      <td>4.6</td>\n",
       "      <td>Excellent</td>\n",
       "      <td>The Grounds of Alexandria, Alexandria</td>\n",
       "      <td>The Grounds of Alexandria Cafe</td>\n",
       "      <td>['Café']</td>\n",
       "      <td>3236.0</td>\n",
       "      <td>False</td>\n",
       "      <td>#9c3203</td>\n",
       "      <td>7.560976</td>\n",
       "      <td>#6f706b</td>\n",
       "    </tr>\n",
       "    <tr>\n",
       "      <th>2</th>\n",
       "      <td>Level G, The Darling at the Star, 80 Pyrmont ...</td>\n",
       "      <td>120.0</td>\n",
       "      <td>['Japanese']</td>\n",
       "      <td>-33.867971</td>\n",
       "      <td>https://www.zomato.com/sydney/sokyo-pyrmont</td>\n",
       "      <td>151.195210</td>\n",
       "      <td>1800 700 700</td>\n",
       "      <td>4.9</td>\n",
       "      <td>Excellent</td>\n",
       "      <td>The Star, Pyrmont</td>\n",
       "      <td>Sokyo</td>\n",
       "      <td>['Fine Dining']</td>\n",
       "      <td>1227.0</td>\n",
       "      <td>False</td>\n",
       "      <td>#7f2704</td>\n",
       "      <td>10.650407</td>\n",
       "      <td>#6f706b</td>\n",
       "    </tr>\n",
       "    <tr>\n",
       "      <th>3</th>\n",
       "      <td>Sydney Opera House, Bennelong Point, Circular...</td>\n",
       "      <td>270.0</td>\n",
       "      <td>['Modern Australian']</td>\n",
       "      <td>-33.856784</td>\n",
       "      <td>https://www.zomato.com/sydney/bennelong-restau...</td>\n",
       "      <td>151.215297</td>\n",
       "      <td>02 9240 8000</td>\n",
       "      <td>4.9</td>\n",
       "      <td>Excellent</td>\n",
       "      <td>Circular Quay</td>\n",
       "      <td>Bennelong Restaurant</td>\n",
       "      <td>['Fine Dining', 'Bar']</td>\n",
       "      <td>278.0</td>\n",
       "      <td>False</td>\n",
       "      <td>#7f2704</td>\n",
       "      <td>22.235772</td>\n",
       "      <td>#4186f4</td>\n",
       "    </tr>\n",
       "    <tr>\n",
       "      <th>4</th>\n",
       "      <td>20 Campbell Street, Chinatown, Sydney</td>\n",
       "      <td>55.0</td>\n",
       "      <td>['Thai', 'Salad']</td>\n",
       "      <td>-33.879035</td>\n",
       "      <td>https://www.zomato.com/sydney/chat-thai-chinatown</td>\n",
       "      <td>151.206409</td>\n",
       "      <td>02 8317 4811</td>\n",
       "      <td>4.5</td>\n",
       "      <td>Excellent</td>\n",
       "      <td>Chinatown</td>\n",
       "      <td>Chat Thai</td>\n",
       "      <td>['Casual Dining']</td>\n",
       "      <td>2150.0</td>\n",
       "      <td>False</td>\n",
       "      <td>#a83703</td>\n",
       "      <td>5.630081</td>\n",
       "      <td>#6f706b</td>\n",
       "    </tr>\n",
       "  </tbody>\n",
       "</table>\n",
       "</div>"
      ],
      "text/plain": [
       "                                             address   cost  \\\n",
       "0                      371A Pitt Street, CBD, Sydney   50.0   \n",
       "1      Shop 7A, 2 Huntley Street, Alexandria, Sydney   80.0   \n",
       "2   Level G, The Darling at the Star, 80 Pyrmont ...  120.0   \n",
       "3   Sydney Opera House, Bennelong Point, Circular...  270.0   \n",
       "4              20 Campbell Street, Chinatown, Sydney   55.0   \n",
       "\n",
       "                                       cuisine        lat  \\\n",
       "0   ['Hot Pot', 'Korean BBQ', 'BBQ', 'Korean'] -33.876059   \n",
       "1  ['Cafe', 'Coffee and Tea', 'Salad', 'Poké'] -33.910999   \n",
       "2                                 ['Japanese'] -33.867971   \n",
       "3                        ['Modern Australian'] -33.856784   \n",
       "4                            ['Thai', 'Salad'] -33.879035   \n",
       "\n",
       "                                                link         lng  \\\n",
       "0    https://www.zomato.com/sydney/sydney-madang-cbd  151.207605   \n",
       "1  https://www.zomato.com/sydney/the-grounds-of-a...  151.193793   \n",
       "2        https://www.zomato.com/sydney/sokyo-pyrmont  151.195210   \n",
       "3  https://www.zomato.com/sydney/bennelong-restau...  151.215297   \n",
       "4  https://www.zomato.com/sydney/chat-thai-chinatown  151.206409   \n",
       "\n",
       "          phone  rating_number rating_text  \\\n",
       "0  02 8318 0406            4.0   Very Good   \n",
       "1  02 9699 2225            4.6   Excellent   \n",
       "2  1800 700 700            4.9   Excellent   \n",
       "3  02 9240 8000            4.9   Excellent   \n",
       "4  02 8317 4811            4.5   Excellent   \n",
       "\n",
       "                                 subzone                           title  \\\n",
       "0                                    CBD                   Sydney Madang   \n",
       "1  The Grounds of Alexandria, Alexandria  The Grounds of Alexandria Cafe   \n",
       "2                      The Star, Pyrmont                           Sokyo   \n",
       "3                          Circular Quay            Bennelong Restaurant   \n",
       "4                              Chinatown                       Chat Thai   \n",
       "\n",
       "                     type   votes  groupon    color     cost_2 cuisine_color  \n",
       "0       ['Casual Dining']  1311.0    False  #e15307   5.243902       #6f706b  \n",
       "1                ['Café']  3236.0    False  #9c3203   7.560976       #6f706b  \n",
       "2         ['Fine Dining']  1227.0    False  #7f2704  10.650407       #6f706b  \n",
       "3  ['Fine Dining', 'Bar']   278.0    False  #7f2704  22.235772       #4186f4  \n",
       "4       ['Casual Dining']  2150.0    False  #a83703   5.630081       #6f706b  "
      ]
     },
     "execution_count": 4,
     "metadata": {},
     "output_type": "execute_result"
    }
   ],
   "source": [
    "# Load the data\n",
    "df = pd.read_csv('C:/Users/lixu/Desktop/u3251456_CHEN_assignment1/zomato_df_final_data.csv')\n",
    "df.head()"
   ]
  },
  {
   "cell_type": "markdown",
   "id": "989a5daf-f7b3-4e5e-b84a-4ffedbc4a695",
   "metadata": {},
   "source": [
    "### Exploratory Data Analysis"
   ]
  },
  {
   "cell_type": "code",
   "execution_count": 6,
   "id": "777c5070-718a-4ff4-9dad-2a59c6f9e871",
   "metadata": {},
   "outputs": [
    {
     "name": "stdout",
     "output_type": "stream",
     "text": [
      "(10500, 17)\n",
      "Index(['address', 'cost', 'cuisine', 'lat', 'link', 'lng', 'phone',\n",
      "       'rating_number', 'rating_text', 'subzone', 'title', 'type', 'votes',\n",
      "       'groupon', 'color', 'cost_2', 'cuisine_color'],\n",
      "      dtype='object')\n",
      "<class 'pandas.core.frame.DataFrame'>\n",
      "RangeIndex: 10500 entries, 0 to 10499\n",
      "Data columns (total 17 columns):\n",
      " #   Column         Non-Null Count  Dtype  \n",
      "---  ------         --------------  -----  \n",
      " 0   address        10500 non-null  object \n",
      " 1   cost           10154 non-null  float64\n",
      " 2   cuisine        10500 non-null  object \n",
      " 3   lat            10308 non-null  float64\n",
      " 4   link           10500 non-null  object \n",
      " 5   lng            10308 non-null  float64\n",
      " 6   phone          10500 non-null  object \n",
      " 7   rating_number  7184 non-null   float64\n",
      " 8   rating_text    7184 non-null   object \n",
      " 9   subzone        10500 non-null  object \n",
      " 10  title          10500 non-null  object \n",
      " 11  type           10452 non-null  object \n",
      " 12  votes          7184 non-null   float64\n",
      " 13  groupon        10500 non-null  bool   \n",
      " 14  color          10500 non-null  object \n",
      " 15  cost_2         10154 non-null  float64\n",
      " 16  cuisine_color  10500 non-null  object \n",
      "dtypes: bool(1), float64(6), object(10)\n",
      "memory usage: 1.3+ MB\n",
      "None\n"
     ]
    }
   ],
   "source": [
    "# Basic information about dataset\n",
    "df = pd.read_csv('C:/Users/lixu/Desktop/u3251456_CHEN_assignment1/zomato_df_final_data.csv')\n",
    "df.head()\n",
    "\n",
    "# Data shape\n",
    "print(df.shape)\n",
    "\n",
    "# Print column names\n",
    "print(df.columns)\n",
    "\n",
    "# Summary of dataset\n",
    "print(df.info())"
   ]
  },
  {
   "cell_type": "markdown",
   "id": "53666d44-b6ab-43a8-a653-25392ef66107",
   "metadata": {},
   "source": [
    "Since 'address',' lat', and 'lng' can be represented by subzone, therefore, for analysis, I will only focus on subzone. In addition, 'link', 'phone', 'title', 'color', 'cuisine_color' are irrelevant to the subsequent analysis, so they will also be excluded."
   ]
  },
  {
   "cell_type": "code",
   "execution_count": 8,
   "id": "9efbcce8-8b42-44f8-abe3-c28ae8b7b635",
   "metadata": {},
   "outputs": [
    {
     "data": {
      "text/html": [
       "<div>\n",
       "<style scoped>\n",
       "    .dataframe tbody tr th:only-of-type {\n",
       "        vertical-align: middle;\n",
       "    }\n",
       "\n",
       "    .dataframe tbody tr th {\n",
       "        vertical-align: top;\n",
       "    }\n",
       "\n",
       "    .dataframe thead th {\n",
       "        text-align: right;\n",
       "    }\n",
       "</style>\n",
       "<table border=\"1\" class=\"dataframe\">\n",
       "  <thead>\n",
       "    <tr style=\"text-align: right;\">\n",
       "      <th></th>\n",
       "      <th>cost</th>\n",
       "      <th>cuisine</th>\n",
       "      <th>rating_number</th>\n",
       "      <th>rating_text</th>\n",
       "      <th>subzone</th>\n",
       "      <th>type</th>\n",
       "      <th>votes</th>\n",
       "      <th>groupon</th>\n",
       "      <th>cost_2</th>\n",
       "    </tr>\n",
       "  </thead>\n",
       "  <tbody>\n",
       "    <tr>\n",
       "      <th>0</th>\n",
       "      <td>50.0</td>\n",
       "      <td>['Hot Pot', 'Korean BBQ', 'BBQ', 'Korean']</td>\n",
       "      <td>4.0</td>\n",
       "      <td>Very Good</td>\n",
       "      <td>CBD</td>\n",
       "      <td>['Casual Dining']</td>\n",
       "      <td>1311.0</td>\n",
       "      <td>False</td>\n",
       "      <td>5.243902</td>\n",
       "    </tr>\n",
       "    <tr>\n",
       "      <th>1</th>\n",
       "      <td>80.0</td>\n",
       "      <td>['Cafe', 'Coffee and Tea', 'Salad', 'Poké']</td>\n",
       "      <td>4.6</td>\n",
       "      <td>Excellent</td>\n",
       "      <td>The Grounds of Alexandria, Alexandria</td>\n",
       "      <td>['Café']</td>\n",
       "      <td>3236.0</td>\n",
       "      <td>False</td>\n",
       "      <td>7.560976</td>\n",
       "    </tr>\n",
       "    <tr>\n",
       "      <th>2</th>\n",
       "      <td>120.0</td>\n",
       "      <td>['Japanese']</td>\n",
       "      <td>4.9</td>\n",
       "      <td>Excellent</td>\n",
       "      <td>The Star, Pyrmont</td>\n",
       "      <td>['Fine Dining']</td>\n",
       "      <td>1227.0</td>\n",
       "      <td>False</td>\n",
       "      <td>10.650407</td>\n",
       "    </tr>\n",
       "    <tr>\n",
       "      <th>3</th>\n",
       "      <td>270.0</td>\n",
       "      <td>['Modern Australian']</td>\n",
       "      <td>4.9</td>\n",
       "      <td>Excellent</td>\n",
       "      <td>Circular Quay</td>\n",
       "      <td>['Fine Dining', 'Bar']</td>\n",
       "      <td>278.0</td>\n",
       "      <td>False</td>\n",
       "      <td>22.235772</td>\n",
       "    </tr>\n",
       "    <tr>\n",
       "      <th>4</th>\n",
       "      <td>55.0</td>\n",
       "      <td>['Thai', 'Salad']</td>\n",
       "      <td>4.5</td>\n",
       "      <td>Excellent</td>\n",
       "      <td>Chinatown</td>\n",
       "      <td>['Casual Dining']</td>\n",
       "      <td>2150.0</td>\n",
       "      <td>False</td>\n",
       "      <td>5.630081</td>\n",
       "    </tr>\n",
       "  </tbody>\n",
       "</table>\n",
       "</div>"
      ],
      "text/plain": [
       "    cost                                      cuisine  rating_number  \\\n",
       "0   50.0   ['Hot Pot', 'Korean BBQ', 'BBQ', 'Korean']            4.0   \n",
       "1   80.0  ['Cafe', 'Coffee and Tea', 'Salad', 'Poké']            4.6   \n",
       "2  120.0                                 ['Japanese']            4.9   \n",
       "3  270.0                        ['Modern Australian']            4.9   \n",
       "4   55.0                            ['Thai', 'Salad']            4.5   \n",
       "\n",
       "  rating_text                                subzone                    type  \\\n",
       "0   Very Good                                    CBD       ['Casual Dining']   \n",
       "1   Excellent  The Grounds of Alexandria, Alexandria                ['Café']   \n",
       "2   Excellent                      The Star, Pyrmont         ['Fine Dining']   \n",
       "3   Excellent                          Circular Quay  ['Fine Dining', 'Bar']   \n",
       "4   Excellent                              Chinatown       ['Casual Dining']   \n",
       "\n",
       "    votes  groupon     cost_2  \n",
       "0  1311.0    False   5.243902  \n",
       "1  3236.0    False   7.560976  \n",
       "2  1227.0    False  10.650407  \n",
       "3   278.0    False  22.235772  \n",
       "4  2150.0    False   5.630081  "
      ]
     },
     "execution_count": 8,
     "metadata": {},
     "output_type": "execute_result"
    }
   ],
   "source": [
    "# Remove unnecessary columns for building models preparation\n",
    "df.drop(['address','lat','link','lng','phone','title','color','cuisine_color'],axis = 1, inplace = True)\n",
    "df.head()"
   ]
  },
  {
   "cell_type": "code",
   "execution_count": 9,
   "id": "96b05ef7-979f-48e7-a123-b50f176619e1",
   "metadata": {},
   "outputs": [
    {
     "name": "stdout",
     "output_type": "stream",
     "text": [
      "There are 5 categorical variables\n",
      "\n",
      "The categorical variables are:  ['cuisine', 'rating_text', 'subzone', 'type', 'groupon']\n"
     ]
    }
   ],
   "source": [
    "# Find categorical variables\n",
    "categorical_columns = [var for var in df.columns if df[var].dtype in ['O','bool']]\n",
    "\n",
    "# Print results\n",
    "print(\"There are {} categorical variables\\n\".format(len(categorical_columns)))\n",
    "print(\"The categorical variables are: \", categorical_columns)"
   ]
  },
  {
   "cell_type": "code",
   "execution_count": 10,
   "id": "0b195e1e-9719-48fb-a317-6a3bf3618cb6",
   "metadata": {},
   "outputs": [
    {
     "name": "stdout",
     "output_type": "stream",
     "text": [
      "There are 4 numerical variables\n",
      "\n",
      "The numerical variables are : ['cost', 'rating_number', 'votes', 'cost_2']\n"
     ]
    }
   ],
   "source": [
    "# Find numerical variables\n",
    "numerical_columns = [var for var in df.columns if df[var].dtypes not in ['O','bool']]\n",
    "\n",
    "# Print results\n",
    "print('There are {} numerical variables\\n'.format(len(numerical_columns)))\n",
    "print('The numerical variables are :', numerical_columns)"
   ]
  },
  {
   "cell_type": "code",
   "execution_count": 11,
   "id": "70df90b5-c427-44c5-9412-69d14d92601f",
   "metadata": {},
   "outputs": [
    {
     "name": "stdout",
     "output_type": "stream",
     "text": [
      "cost              346\n",
      "cuisine             0\n",
      "rating_number    3316\n",
      "rating_text      3316\n",
      "subzone             0\n",
      "type               48\n",
      "votes            3316\n",
      "groupon             0\n",
      "cost_2            346\n",
      "dtype: int64\n",
      "********\n",
      "Percentages of missing values\n",
      "********\n",
      "cost              3.295238\n",
      "cuisine           0.000000\n",
      "rating_number    31.580952\n",
      "rating_text      31.580952\n",
      "subzone           0.000000\n",
      "type              0.457143\n",
      "votes            31.580952\n",
      "groupon           0.000000\n",
      "cost_2            3.295238\n",
      "dtype: float64\n"
     ]
    }
   ],
   "source": [
    "# Check the missing values\n",
    "print(df.isnull().sum())\n",
    "print(\"********\\nPercentages of missing values\\n********\")\n",
    "print(100 * df.isnull().sum() / df.shape[0])"
   ]
  },
  {
   "cell_type": "markdown",
   "id": "da637a77-c2e5-413a-83c4-b1ecb3d58b0b",
   "metadata": {},
   "source": [
    "### Explore Categorical Variables"
   ]
  },
  {
   "cell_type": "code",
   "execution_count": 13,
   "id": "6b0ceefc-710c-4dec-ad0f-6e92ed4b22c2",
   "metadata": {},
   "outputs": [
    {
     "data": {
      "text/html": [
       "<div>\n",
       "<style scoped>\n",
       "    .dataframe tbody tr th:only-of-type {\n",
       "        vertical-align: middle;\n",
       "    }\n",
       "\n",
       "    .dataframe tbody tr th {\n",
       "        vertical-align: top;\n",
       "    }\n",
       "\n",
       "    .dataframe thead th {\n",
       "        text-align: right;\n",
       "    }\n",
       "</style>\n",
       "<table border=\"1\" class=\"dataframe\">\n",
       "  <thead>\n",
       "    <tr style=\"text-align: right;\">\n",
       "      <th></th>\n",
       "      <th>cuisine</th>\n",
       "      <th>rating_text</th>\n",
       "      <th>subzone</th>\n",
       "      <th>type</th>\n",
       "      <th>groupon</th>\n",
       "    </tr>\n",
       "  </thead>\n",
       "  <tbody>\n",
       "    <tr>\n",
       "      <th>0</th>\n",
       "      <td>['Hot Pot', 'Korean BBQ', 'BBQ', 'Korean']</td>\n",
       "      <td>Very Good</td>\n",
       "      <td>CBD</td>\n",
       "      <td>['Casual Dining']</td>\n",
       "      <td>False</td>\n",
       "    </tr>\n",
       "    <tr>\n",
       "      <th>1</th>\n",
       "      <td>['Cafe', 'Coffee and Tea', 'Salad', 'Poké']</td>\n",
       "      <td>Excellent</td>\n",
       "      <td>The Grounds of Alexandria, Alexandria</td>\n",
       "      <td>['Café']</td>\n",
       "      <td>False</td>\n",
       "    </tr>\n",
       "    <tr>\n",
       "      <th>2</th>\n",
       "      <td>['Japanese']</td>\n",
       "      <td>Excellent</td>\n",
       "      <td>The Star, Pyrmont</td>\n",
       "      <td>['Fine Dining']</td>\n",
       "      <td>False</td>\n",
       "    </tr>\n",
       "    <tr>\n",
       "      <th>3</th>\n",
       "      <td>['Modern Australian']</td>\n",
       "      <td>Excellent</td>\n",
       "      <td>Circular Quay</td>\n",
       "      <td>['Fine Dining', 'Bar']</td>\n",
       "      <td>False</td>\n",
       "    </tr>\n",
       "    <tr>\n",
       "      <th>4</th>\n",
       "      <td>['Thai', 'Salad']</td>\n",
       "      <td>Excellent</td>\n",
       "      <td>Chinatown</td>\n",
       "      <td>['Casual Dining']</td>\n",
       "      <td>False</td>\n",
       "    </tr>\n",
       "  </tbody>\n",
       "</table>\n",
       "</div>"
      ],
      "text/plain": [
       "                                       cuisine rating_text  \\\n",
       "0   ['Hot Pot', 'Korean BBQ', 'BBQ', 'Korean']   Very Good   \n",
       "1  ['Cafe', 'Coffee and Tea', 'Salad', 'Poké']   Excellent   \n",
       "2                                 ['Japanese']   Excellent   \n",
       "3                        ['Modern Australian']   Excellent   \n",
       "4                            ['Thai', 'Salad']   Excellent   \n",
       "\n",
       "                                 subzone                    type  groupon  \n",
       "0                                    CBD       ['Casual Dining']    False  \n",
       "1  The Grounds of Alexandria, Alexandria                ['Café']    False  \n",
       "2                      The Star, Pyrmont         ['Fine Dining']    False  \n",
       "3                          Circular Quay  ['Fine Dining', 'Bar']    False  \n",
       "4                              Chinatown       ['Casual Dining']    False  "
      ]
     },
     "execution_count": 13,
     "metadata": {},
     "output_type": "execute_result"
    }
   ],
   "source": [
    "# Explore categorical variables\n",
    "df[categorical_columns].head()"
   ]
  },
  {
   "cell_type": "code",
   "execution_count": 14,
   "id": "ed449196-7efc-43cd-a09a-e21a6f649bf1",
   "metadata": {},
   "outputs": [
    {
     "name": "stdout",
     "output_type": "stream",
     "text": [
      "cuisine           0\n",
      "rating_text    3316\n",
      "subzone           0\n",
      "type             48\n",
      "groupon           0\n",
      "dtype: int64\n",
      "********\n",
      "Percentages of missing values\n",
      "********\n",
      "cuisine         0.000000\n",
      "rating_text    31.580952\n",
      "subzone         0.000000\n",
      "type            0.457143\n",
      "groupon         0.000000\n",
      "dtype: float64\n"
     ]
    }
   ],
   "source": [
    "# Check the missing values\n",
    "print(df[categorical_columns].isnull().sum())\n",
    "print(\"********\\nPercentages of missing values\\n********\")\n",
    "print(100 * df[categorical_columns].isnull().sum() / df.shape[0])"
   ]
  },
  {
   "cell_type": "code",
   "execution_count": 15,
   "id": "5a7202e5-503f-47eb-832d-aaf12022155f",
   "metadata": {},
   "outputs": [
    {
     "name": "stdout",
     "output_type": "stream",
     "text": [
      "cuisine\n",
      "['Cafe']                                   1745\n",
      "['Thai']                                    542\n",
      "['Chinese']                                 450\n",
      "['Modern Australian']                       346\n",
      "['Indian']                                  286\n",
      "                                           ... \n",
      "['Cafe', 'Spanish', 'Italian', 'Tapas']       1\n",
      "['Desserts', 'Steak', 'Tapas']                1\n",
      "['Pub Food', 'Burger', 'Pizza']               1\n",
      "['Cambodian', 'Vietnamese']                   1\n",
      "['Kebab', 'Burger', 'Fish and Chips']         1\n",
      "Name: count, Length: 1759, dtype: int64\n",
      "rating_text\n",
      "Average      4501\n",
      "Good         1917\n",
      "Very Good     506\n",
      "Poor          209\n",
      "Excellent      51\n",
      "Name: count, dtype: int64\n",
      "subzone\n",
      "CBD                                         476\n",
      "Surry Hills                                 260\n",
      "Parramatta                                  225\n",
      "Darlinghurst                                188\n",
      "Chinatown                                   174\n",
      "                                           ... \n",
      "The Sydney Boulevard Hotel, Darlinghurst      1\n",
      "Pullman Quay Grand Sydney Harbour, CBD        1\n",
      "Chullora                                      1\n",
      "Marriott Sydney Harbour, Circular Quay        1\n",
      "Holiday Inn Old Sydney, The Rocks             1\n",
      "Name: count, Length: 572, dtype: int64\n",
      "type\n",
      "['Casual Dining']                    4854\n",
      "['Café']                             2767\n",
      "['Fast Food']                         557\n",
      "['Food Court']                        480\n",
      "['Pub']                               284\n",
      "                                     ... \n",
      "['Club', 'Casual Dining']               1\n",
      "['Dessert Parlour', 'Fast Food']        1\n",
      "['Dessert Parlour', 'Food Court']       1\n",
      "['Club', 'Pub']                         1\n",
      "['Food Court', 'Beverage Shop']         1\n",
      "Name: count, Length: 66, dtype: int64\n",
      "groupon\n",
      "False    10378\n",
      "True       122\n",
      "Name: count, dtype: int64\n"
     ]
    }
   ],
   "source": [
    "# Get the frequency counts \n",
    "for var in categorical_columns:\n",
    "    print(df[var].value_counts())"
   ]
  },
  {
   "cell_type": "code",
   "execution_count": 16,
   "id": "85453829-563c-4236-a9cf-8267085bd91d",
   "metadata": {},
   "outputs": [
    {
     "name": "stdout",
     "output_type": "stream",
     "text": [
      "cuisine\n",
      "['Cafe']                                   0.166190\n",
      "['Thai']                                   0.051619\n",
      "['Chinese']                                0.042857\n",
      "['Modern Australian']                      0.032952\n",
      "['Indian']                                 0.027238\n",
      "                                             ...   \n",
      "['Cafe', 'Spanish', 'Italian', 'Tapas']    0.000095\n",
      "['Desserts', 'Steak', 'Tapas']             0.000095\n",
      "['Pub Food', 'Burger', 'Pizza']            0.000095\n",
      "['Cambodian', 'Vietnamese']                0.000095\n",
      "['Kebab', 'Burger', 'Fish and Chips']      0.000095\n",
      "Name: count, Length: 1759, dtype: float64\n",
      "rating_text\n",
      "Average      0.428667\n",
      "Good         0.182571\n",
      "Very Good    0.048190\n",
      "Poor         0.019905\n",
      "Excellent    0.004857\n",
      "Name: count, dtype: float64\n",
      "subzone\n",
      "CBD                                         0.045333\n",
      "Surry Hills                                 0.024762\n",
      "Parramatta                                  0.021429\n",
      "Darlinghurst                                0.017905\n",
      "Chinatown                                   0.016571\n",
      "                                              ...   \n",
      "The Sydney Boulevard Hotel, Darlinghurst    0.000095\n",
      "Pullman Quay Grand Sydney Harbour, CBD      0.000095\n",
      "Chullora                                    0.000095\n",
      "Marriott Sydney Harbour, Circular Quay      0.000095\n",
      "Holiday Inn Old Sydney, The Rocks           0.000095\n",
      "Name: count, Length: 572, dtype: float64\n",
      "type\n",
      "['Casual Dining']                    0.462286\n",
      "['Café']                             0.263524\n",
      "['Fast Food']                        0.053048\n",
      "['Food Court']                       0.045714\n",
      "['Pub']                              0.027048\n",
      "                                       ...   \n",
      "['Club', 'Casual Dining']            0.000095\n",
      "['Dessert Parlour', 'Fast Food']     0.000095\n",
      "['Dessert Parlour', 'Food Court']    0.000095\n",
      "['Club', 'Pub']                      0.000095\n",
      "['Food Court', 'Beverage Shop']      0.000095\n",
      "Name: count, Length: 66, dtype: float64\n",
      "groupon\n",
      "False    0.988381\n",
      "True     0.011619\n",
      "Name: count, dtype: float64\n"
     ]
    }
   ],
   "source": [
    "# Get the percentages\n",
    "for var in categorical_columns:\n",
    "    print(df[var].value_counts() / df.shape[0])"
   ]
  },
  {
   "cell_type": "code",
   "execution_count": 17,
   "id": "aae8a1a9-acd8-4619-97f1-9542da858cac",
   "metadata": {},
   "outputs": [],
   "source": [
    "# A function to explore each of the categorical variables\n",
    "def explore_categorical(df, var):\n",
    "    # check if the variable has any missing values\n",
    "    print('********** missing values **********')\n",
    "    print(df[var].isnull().sum())\n",
    "    print('********** Labels **********')\n",
    "    # check unique lables in variable\n",
    "    print(df[var].unique())\n",
    "    print('********** frequency **********')\n",
    "    # check frequency of each variable\n",
    "    print(df[var].value_counts())"
   ]
  },
  {
   "cell_type": "code",
   "execution_count": 18,
   "id": "61b6bdc2-bb31-4396-a9af-54b3337c6c14",
   "metadata": {},
   "outputs": [
    {
     "name": "stdout",
     "output_type": "stream",
     "text": [
      "********** missing values **********\n",
      "0\n",
      "********** Labels **********\n",
      "[\"['Hot Pot', 'Korean BBQ', 'BBQ', 'Korean']\"\n",
      " \"['Cafe', 'Coffee and Tea', 'Salad', 'Poké']\" \"['Japanese']\" ...\n",
      " \"['Bakery', 'Pizza', 'Kebab']\" \"['Cafe', 'Coffee and Tea', 'Chinese']\"\n",
      " \"['Kebab', 'Burger', 'Fish and Chips']\"]\n",
      "********** frequency **********\n",
      "cuisine\n",
      "['Cafe']                                   1745\n",
      "['Thai']                                    542\n",
      "['Chinese']                                 450\n",
      "['Modern Australian']                       346\n",
      "['Indian']                                  286\n",
      "                                           ... \n",
      "['Cafe', 'Spanish', 'Italian', 'Tapas']       1\n",
      "['Desserts', 'Steak', 'Tapas']                1\n",
      "['Pub Food', 'Burger', 'Pizza']               1\n",
      "['Cambodian', 'Vietnamese']                   1\n",
      "['Kebab', 'Burger', 'Fish and Chips']         1\n",
      "Name: count, Length: 1759, dtype: int64\n"
     ]
    }
   ],
   "source": [
    "explore_categorical(df, 'cuisine')"
   ]
  },
  {
   "cell_type": "code",
   "execution_count": 19,
   "id": "965edea4-4591-4e05-b058-f785f7e2d2c6",
   "metadata": {},
   "outputs": [
    {
     "name": "stdout",
     "output_type": "stream",
     "text": [
      "********** missing values **********\n",
      "3316\n",
      "********** Labels **********\n",
      "['Very Good' 'Excellent' 'Good' 'Average' 'Poor' nan]\n",
      "********** frequency **********\n",
      "rating_text\n",
      "Average      4501\n",
      "Good         1917\n",
      "Very Good     506\n",
      "Poor          209\n",
      "Excellent      51\n",
      "Name: count, dtype: int64\n"
     ]
    }
   ],
   "source": [
    "explore_categorical(df, 'rating_text')"
   ]
  },
  {
   "cell_type": "code",
   "execution_count": 20,
   "id": "97906ba6-2958-4ba3-99a9-67ee2d645e5d",
   "metadata": {},
   "outputs": [
    {
     "name": "stdout",
     "output_type": "stream",
     "text": [
      "********** missing values **********\n",
      "0\n",
      "********** Labels **********\n",
      "['CBD' 'The Grounds of Alexandria, Alexandria' 'The Star, Pyrmont'\n",
      " 'Circular Quay' 'Chinatown' 'Kensington Street, Chippendale'\n",
      " 'Establishment, CBD' 'Surry Hills' 'The Rocks Centre, The Rocks '\n",
      " 'Westfield Pitt Street Mall, CBD' 'The Rocks'\n",
      " 'World Square Shopping Centre, CBD' 'Darling Park, Darling Harbour'\n",
      " 'SkyView Shopping Plaza, CBD' 'Parramatta' 'Pyrmont'\n",
      " 'Harbourside Shopping Centre, Darling Harbour' 'Ivy, CBD'\n",
      " 'Regent Place Arcade, CBD' 'Newtown' 'The Galeries, CBD' 'Granville'\n",
      " 'Potts Point' 'Woolloomooloo' 'Darling Harbour' 'Strathfield'\n",
      " 'Darlinghurst' 'Wintergarden, CBD' 'Alexandria' 'Crows Nest'\n",
      " 'Harbour Plaza, Chinatown' 'Westfield Chatswood, Chatswood' 'Ashfield'\n",
      " 'Haberfield' 'Annandale' 'Chatswood' 'Chatswood Interchange, Chatswood'\n",
      " 'The Strand Arcade, CBD' 'Glebe' 'Enmore' 'Redfern' 'Bronte'\n",
      " 'Chippendale' 'Cabramatta' 'Rhodes' 'Icebergs, Bondi Beach' 'Bondi Beach'\n",
      " 'Burwood' 'Macquarie Park' 'Erskineville' 'Kirribilli'\n",
      " 'Macquarie Centre, Macquarie Park' 'Woollahra' 'Bankstown' 'Marrickville'\n",
      " 'Hilton Sydney, CBD' 'West Ryde' 'Manly Wharf, Manly' 'Petersham'\n",
      " 'Rose Bay' 'Cammeray' 'Palm Beach' 'Canley Heights'\n",
      " 'Rhodes Waterside, Rhodes' 'Radisson Blu Plaza Hotel CBD'\n",
      " 'Wetherill Park' 'Castle Hill' 'Lane Cove' 'Coogee Pavilion, Coogee'\n",
      " 'Waterloo' 'North Sydney' \"The Bathers' Pavilion, Mosman\"\n",
      " 'The Quadrant, Ultimo' 'Dural' 'Ultimo' 'Balmain' 'Cockle Bay Wharf '\n",
      " 'Dulwich Hill' 'Freshwater' 'Kingsford' 'Brighton-Le-Sands'\n",
      " 'Bondi Junction' 'Barangaroo' 'Kensington' 'Prince Centre, Chinatown'\n",
      " 'Market City, Chinatown' 'Eastwood' 'QT Sydney, CBD' 'Mosman'\n",
      " 'Shangri-la Hotel, The Rocks' 'Milsons Point' 'St Leonards'\n",
      " 'Sydney Fish Market, Pyrmont' 'Chifley Plaza, CBD' 'Campsie' 'Canterbury'\n",
      " 'Drummoyne' 'Smithfield' \"D'Albora Marinas, Mosman\" 'Rosebery'\n",
      " 'Botany Bay' 'QVB, CBD' 'Paddington' 'Concord' 'Watsons Bay'\n",
      " 'Canley Vale' 'Stanmore' 'Randwick' 'Cronulla' 'Camperdown'\n",
      " 'The Republic Hotel, CBD' 'East Village Shopping Centre, Zetland'\n",
      " 'Leichhardt' 'Park Hyatt, The Rocks' 'Liverpool' 'Double Bay'\n",
      " 'North Strathfield' 'The Eastern Hotel, Bondi Junction' 'Hurstville'\n",
      " 'Gladesville' 'Sydney Central, Chinatown '\n",
      " 'Darling Quarter, Darling Harbour' 'Cremorne' 'Neutral Bay' 'Mascot'\n",
      " 'The Cannery Rosebery' 'Wahroonga' 'McMahons Point' 'Greenacre'\n",
      " 'GPO Grand, CBD' 'Manly' 'Maroubra' 'InterContinental Sydney, CBD'\n",
      " 'Homebush' 'Westfield Parramatta, Parramatta' 'Berowra'\n",
      " 'Myahgah Mews, Mosman' 'Croydon' 'Top Ryde Shopping Centre, Ryde'\n",
      " 'Westfield Bondi Junction, Bondi Junction' 'Riverwood'\n",
      " 'Capitol Square, Chinatown' 'Westfield Hornsby, Hornsby' 'Auburn'\n",
      " 'Rydalmere' 'Chatswood Chase, Chatswood' 'Coogee' 'Summer Hill'\n",
      " 'Tramsheds, Harold Park' 'Penrith' 'Leura' 'Arncliffe' 'Willoughby'\n",
      " 'Beverly Hills' 'Bondi Pavilion, Bondi Beach' 'Kogarah' 'Rozelle'\n",
      " 'Swissotel Sydney CBD' 'Sans Souci' 'Park Royal Darling Harbour, CBD'\n",
      " 'Sheraton on the Park, CBD' 'Sylvania'\n",
      " 'Novotel Sydney Manly Pacific, Manly' 'Roselands' 'Waverley' 'Little Bay'\n",
      " 'Sydney Olympic Park' 'Artarmon' 'Fairfield' 'Pavilion On George, CBD'\n",
      " 'Gordon' 'The Kirketon Hotel, Darlinghurst' 'Lakemba'\n",
      " 'Fairfield RSL, Fairfield' 'Newport'\n",
      " 'Birkenhead Point Shopping Centre, Drummoyne' 'The Concourse, Chatswood'\n",
      " 'Hunter Connection, CBD' 'Rouse Hill' 'Stockland Piccadilly, CBD' 'Ryde'\n",
      " 'Kirrawee' 'Hunters Hill' 'Bexley' 'Mona Vale' 'Pacific Square, Maroubra'\n",
      " 'Naremburn' 'Amora Hotel Jamison Sydney, CBD' 'Central Park, Chippendale'\n",
      " 'Kingsgrove' 'Dee Why' 'Harbour Rocks Hotel, The Rocks ' 'Clovelly'\n",
      " 'Wollstonecraft' 'Lidcombe' 'Brooklyn' 'Roseville'\n",
      " 'Lidcombe Shopping Centre, Lidcombe' 'The Russell Hotel, The Rocks'\n",
      " 'Stockland Square, Cammeray' 'Epping' 'Bondi' 'Welcome Hotel, Rozelle'\n",
      " 'ArtHouse Hotel' 'MCA, The Rocks' 'Tempe'\n",
      " 'Cantebury League Club, Belmore' 'Five Dock' 'North Ryde'\n",
      " 'Q Station, Manly' 'St Martins Tower' 'Casula' 'Camden' 'Penshurst'\n",
      " 'Penrith Panthers, Penrith' 'Glenbrook' 'La Perouse' 'Brookvale'\n",
      " 'St. Peters' 'Greenwood Plaza, North Sydney' 'Zetland' 'Darlington'\n",
      " 'Pittwater' 'Pennant Hills' 'Sutherland' 'The York Hotel, CBD'\n",
      " 'Merrylands' 'The Entertainment Quarter, Moore Park' 'Hornsby'\n",
      " 'Terrey Hills' 'Italian Forum Cultural Centre, Leichardt'\n",
      " 'Baulkham Hills' 'Kareela' 'Vaucluse' 'Bankstown Sports Club, Bankstown'\n",
      " 'Castle Towers, Castle Hill' 'Bonnyrigg' 'The Quay, Chinatown' 'Belmore'\n",
      " 'Lindfield' 'Oatley' 'Marriott Sydney Harbour, Circular Quay'\n",
      " 'Chester Hill' 'Lemon Grove Shopping Centre, Chatswood' 'Narrabeen'\n",
      " 'Stamford Plaza Sydney Airport, Mascot' 'Moore Park' 'Monterey'\n",
      " 'Stockland Wetherill Park Shopping Centre, Wetherill Park' 'Turramurra'\n",
      " 'Sofitel Sydney, CBD' 'Belfield' 'Pullman Quay Grand Sydney Harbour, CBD'\n",
      " 'Strathfield Plaza, Strathfield' 'Lugarno' 'Grace Hotel ,CBD' 'Rockdale'\n",
      " 'HSBC Centre, CBD' 'The Westin Sydney, CBD' 'The Passage, CBD' 'Kyle Bay'\n",
      " 'Marsden Park Home' 'Centennial Parkland Dining, Moore Park '\n",
      " 'Newington Marketplace, Newington' \"Ravesi's Bondi, Bondi\"\n",
      " 'Broadway Shopping Centre, Glebe' 'Dixon House Food Court, CBD'\n",
      " 'North Parramatta' 'Green Valley' 'Barangaroo House' 'Meadowbank'\n",
      " 'Revesby' 'Elizabeth Plaza, North Sydney' 'Mandarin Centre, Chatswood'\n",
      " 'Oxford Square, Darlinghurst' 'Westfield Eastgardens, Eastgardens'\n",
      " 'The Gateway Plaza, The Hills' 'Central Station, Chinatown'\n",
      " 'Intercontinental Sydney Double Bay, Double Bay' 'Workers Blacktown'\n",
      " 'Kellyville' 'Matraville' 'Blacktown' 'Little Saigon Plaza' 'Carlingford'\n",
      " 'Gymea' 'Orient Hotel, The Rocks' 'Avalon' 'Katoomba'\n",
      " 'Sir Stamford Circular Quay, The Rocks' 'Greystanes' 'Primus Hotel'\n",
      " 'Menai' 'Norton Plaza, Leichhardt' 'Westfield Sydney Central Plaza, CBD'\n",
      " 'Berala' 'Caringbah' 'Earlwood' 'Rushcutters Bay'\n",
      " 'Westpoint Shopping Centre, Blacktown' 'Bilpin' 'Girraween'\n",
      " 'Macarthur Square Shopping Centre, Campbeltown'\n",
      " 'Danks Street Shopping Plaza, Waterloo'\n",
      " 'Westfield Hurstville, Hurstville' 'Crown Square Plaza, Waterloo'\n",
      " 'Malabar' 'Foodbase, CBD' 'T2 Sydney Domestic Airport' 'Bella Vista'\n",
      " 'Taren Point' 'Jannali' 'Gateway, Circular Quay' 'Windsor'\n",
      " 'Parramatta Leagues Club, Parramatta' 'Rouse Hill Town Centre'\n",
      " 'Cabra-Vale Diggers, Canley Vale' 'Blakehurst' 'Cabramatta Plaza'\n",
      " 'Breakfast Point' 'Narellan' 'Quakers Hill' 'Sussex Centre, Chinatown'\n",
      " 'Bayside Plaza, Brighton Le-Sands' 'The Langham, CBD'\n",
      " 'Cosmopolitan Centre, Double Bay' 'Ramsgate' 'Edgecliff' 'Seven Hills'\n",
      " 'Moorebank' 'Wynyard Station, CBD' 'Circular Quay Wharf, CBD' 'Padstow'\n",
      " 'Le Sands Pavillion, Brighton-Le-Sands' 'Campbelltown'\n",
      " 'UNSW Campus, Kensington' 'GPO Building, Gordon' 'Abbotsford'\n",
      " 'Northbridge' 'Westfield Miranda, Miranda' 'The Collaroy, Collaroy'\n",
      " 'Winston Hills Mall' 'Pittsway Arcade'\n",
      " 'Novotel Rockford, Darling Harbour' 'ParkRoyal Parramatta' 'St Ives'\n",
      " 'Westfield Warringah Mall, Warringah' 'Westfield Penrith Plaza, Penrith'\n",
      " 'Erskine Park' 'Mascot Central Shopping Precinct, Mascot'\n",
      " 'Colonial Centre, CBD' 'St Marys' 'The Buena' 'Newington'\n",
      " 'Rydges World Square, CBD' 'Campbelltown Mall, Campbelltown' 'Peakhurst'\n",
      " 'North Rocks Shopping Centre, North Rocks'\n",
      " 'Stockland Shopping Centre, Balgowlah' 'The Greengate Hotel' 'Blaxland'\n",
      " 'Highfield Caringbah' 'Curl Curl' 'Kogarah Town Centre, Kogarah'\n",
      " 'Guildford' 'Old Toongabbie' 'Collaroy' 'Bankstown Central, Bankstown '\n",
      " 'Engadine' 'Circa Retail Shopping Centre, Bella Vista' 'Springwood'\n",
      " 'Marsfield' 'MLC Building, North Sydney' 'St Ives Shopping Village'\n",
      " 'Richmond' 'Meriton Dining Precinct Parramatta'\n",
      " 'Westfield Burwood, Burwood' 'Moorebank Shopping Village, Moorebank'\n",
      " 'Novotel Brighton, Brighton-Le-Sands' 'Northmead'\n",
      " 'Cherrybrook Village Shopping Centre, Cherrybrook'\n",
      " 'Norwest Marketown, Baulkham' 'Edgecliff Centre, Edgecliff' 'Pymble'\n",
      " 'Medlow Bath' 'Carlingford Court Shopping Centre, Carlingford'\n",
      " 'MLC Tower, CBD' 'Art Gallery of New South Wales' 'Heathcote'\n",
      " 'Sydney Airport' 'Beverley Park' 'Freshwater Village Plaza, Freshwater'\n",
      " 'Ermington' 'Beecroft' 'Gordon Centre, Gordon' 'Seaforth'\n",
      " 'Town Hall Square, CBD' 'T3 Sydney Domestic Airport' 'Balgowlah'\n",
      " 'Miranda Hotel, Miranda' 'Royal Randwick Shopping Centre, Randwick'\n",
      " 'Eastgardens' 'Bangor' 'Eastlakes Shopping Centre, Eastlakes' 'Wooloware'\n",
      " 'Lord Wolseley Hotel, Ultimo' 'Como' 'Redfern Village'\n",
      " 'Canterbury Hurlstone Park RSL, Hurlston Park' 'Frenchs Forest'\n",
      " 'Sydney Markets Plaza' 'Tradies Gymea' 'Mount Druitt' 'Miranda'\n",
      " 'Marrickville Metro Shopping Centre, Marrickville'\n",
      " 'Wenty Leagues, Wentworthville' 'Pittwater Place, Mona Vale'\n",
      " 'Marketplace, West Ryde' 'Hotel CBD, CBD'\n",
      " 'Knightsbridge Shopping Centre, The Hills'\n",
      " 'Stockland Shopping Centre, The Hills' 'Northbridge Plaza, Northbridge'\n",
      " 'T1 Sydney International Airport' 'Supa Centa, Moore Park'\n",
      " 'DFO Homebush, Homebush' 'MetCentre, CBD' 'Westfield Mount Druitt'\n",
      " 'Fairmont Resort Blue Mountains' 'Narellan Town Centre, Narellan'\n",
      " 'Wentworth Building, Newton' 'Woodpark' 'Hurstville Central, Hurstville '\n",
      " 'Silverwater' 'Ingleburn' 'The Piazza, Sydney Olympic Park'\n",
      " 'Bellevue Hill' 'Panania' 'Jenolan' 'Minto'\n",
      " 'Westfield Liverpool, Liverpool' 'Food@259, CBD '\n",
      " 'Holiday Inn Darling Harbour, Chinatown' 'Killara'\n",
      " 'Centennial Plaza, Surry Hills' 'Crowne Plaza Coogee' 'Kurnell'\n",
      " 'Pullman Sydney Hyde Park, CBD' 'Dee Why Market, Dee Why'\n",
      " 'The Occidental Hotel, CBD' 'The Lookout Echo Point, Katoomba'\n",
      " 'Yarrawarrah' 'The Light Brigade Hotel, Woollahra'\n",
      " 'Rydges North Sydney, North Sydney'\n",
      " 'Marketfair Shopping Centre, Campbeltown' 'North Rocks'\n",
      " '3 Weeds, Rozelle' 'Sofitel Sydney Darling Harbour'\n",
      " 'Auburn Central, Auburn' 'Riverstone' 'Seven Hills Plaza'\n",
      " 'Pemulwuy Marketplace' 'Kyeemagh' 'Woronora'\n",
      " 'SOL Living Lifestyle Precinct' 'The Holiday Inn, Sydney Airport'\n",
      " 'Punchbowl' 'The Sussex Hotel, CBD' 'St George Leagues Club'\n",
      " 'David Jones Foodhall, CBD'\n",
      " 'Stockland Merrylands Shopping Centre, Holroyd' \"revesby workers'\"\n",
      " 'Southlands Shopping Centre' 'Burwood Plaza, Burwood '\n",
      " 'Eastgate, Bondi Junction' 'Mercure Sydney, Ultimo' \"Hotel Sweeny's, CBD\"\n",
      " 'Tea Gardens Hotel Bondi Junction' 'Little Hartley'\n",
      " 'Four Points by Sheraton, CBD' 'Roselands Shopping Centre, Roseland'\n",
      " 'Australia Square Food Court, CBD' 'Castle Mall, The Hills'\n",
      " 'Chambers Arcade, CBD' 'North Sydney Harbour View Hotel North Sydney'\n",
      " 'Southgate Shopping Centre, Sylvania' 'Illawong' 'The Hills'\n",
      " 'Mathews Arcade, Kensington'\n",
      " 'Mercure Sydney International Airport, Mascot'\n",
      " 'Rockdale Shopping Plaza, Rockdale' 'Bridgepoint Shopping Centre, Mosman'\n",
      " 'Novotel Sydney Olympic Park' 'Chullora Marketplace, Greenacre'\n",
      " 'Novotel Sydney Central, Chinatown' 'Macquarie Fields'\n",
      " 'Dee Why Grand Shopping Centre, Dee Why'\n",
      " 'MarketPlace Leichhardt, Leichhardt' 'Forum Plaza, St Leonards'\n",
      " 'Oatlands' 'Dee Why RSL Club' 'Rydges Airport Hotel, Sydney Airport'\n",
      " 'Holsworthy' 'Taiwanese Night Market, Eastwood' 'Royal Exhibition Hotel'\n",
      " 'Greenway Village' 'Coogee Legion Club' 'Manly Vale' 'Lithgow'\n",
      " 'Holiday Inn Parramatta' 'Castlereagh Street Food Court, CBD'\n",
      " 'Neeta City Shopping Centre, Fairfield' 'Nepean Village, Penrith'\n",
      " 'Ashfield Mall, Ashfield' 'Mercure Sydney Parramatta, Parramatta'\n",
      " 'Martin Place Shopping Circle, CBD' 'City of Sydney RSL Club'\n",
      " 'Manning House, Cammperdown' 'Macquarie University'\n",
      " 'Glenquarie Town Centre' 'Castlereagh Boutitque Hotel, CBD'\n",
      " 'Fairfield Forum, Fairfield' 'Tower Square, North Sydney'\n",
      " 'Mount Victoria' 'Parra Mall, Parramatta' 'Hurlstone Park'\n",
      " 'North Ryde RSL, North Ryde' 'The Sydney Boulevard Hotel, Darlinghurst'\n",
      " 'Illawong Shopping Village, Illawong' 'Big Bear Shopping Centre'\n",
      " 'Bangor Shopping Centre, Bangor' 'Gladesville Shopping Village'\n",
      " 'Chullora' 'Minto Marketplace' 'Hornsby RSL Club, Hornsby'\n",
      " 'Pierside Shopping Centre' 'Newport Village Arcade, Newport'\n",
      " 'Workers Sports Club' 'ActivateMarketplace UTS, CBD'\n",
      " 'Milsons Village Food Court, McMahons Point' 'Chatswood Rsl'\n",
      " 'Hotel Steyne, Manly' 'Campsie Centre, Campsie'\n",
      " 'Surry Hills Shopping Village, Surry Hills' 'The Juniors, Kingsford'\n",
      " 'Tradies Caringbah' 'Warriewood' 'Oberon' 'Balgowlah RSL'\n",
      " 'Riverwood Plaza, Riverwood ' 'Bonnyrigg Plaza'\n",
      " 'Ramsgate Beach Plaza, Ramsgate' 'Eastwood Shopping Centre, Eastwood'\n",
      " 'Parkside Plaza, Miranda' 'Mayfair Plaza, Parramatta'\n",
      " 'Fairfield Chase, Fairfield'\n",
      " 'Warriewood Square Shopping Centre, Warriewood' 'Penrith RSL'\n",
      " 'Caringbah Shopping Village, Caringbah'\n",
      " 'Hotel ibis Darling Harbour, Pyrmont' 'Bass Hill Plaza, Bass Hill'\n",
      " 'Greenway Arcade, Parramatta' 'Greystanes Shopping Centre '\n",
      " 'Club Central Hurstville' 'Ruby Pub and Hotel'\n",
      " 'Landmark Hotel, West Ryde' 'Menai Marketplace, Menai' 'Oyster Bay'\n",
      " 'Ingleburn Village Shopping Centre' 'Event Cinemas, CBD'\n",
      " 'Glenrose Villge Shopping Centre' 'Liverpool Plaza, Liverpool'\n",
      " 'Holiday Inn Old Sydney, The Rocks']\n",
      "********** frequency **********\n",
      "subzone\n",
      "CBD                                         476\n",
      "Surry Hills                                 260\n",
      "Parramatta                                  225\n",
      "Darlinghurst                                188\n",
      "Chinatown                                   174\n",
      "                                           ... \n",
      "The Sydney Boulevard Hotel, Darlinghurst      1\n",
      "Pullman Quay Grand Sydney Harbour, CBD        1\n",
      "Chullora                                      1\n",
      "Marriott Sydney Harbour, Circular Quay        1\n",
      "Holiday Inn Old Sydney, The Rocks             1\n",
      "Name: count, Length: 572, dtype: int64\n"
     ]
    }
   ],
   "source": [
    "explore_categorical(df, 'subzone')"
   ]
  },
  {
   "cell_type": "code",
   "execution_count": 21,
   "id": "8d8a0367-46a6-4b47-b076-6d3128477650",
   "metadata": {},
   "outputs": [
    {
     "name": "stdout",
     "output_type": "stream",
     "text": [
      "********** missing values **********\n",
      "48\n",
      "********** Labels **********\n",
      "[\"['Casual Dining']\" \"['Café']\" \"['Fine Dining']\" \"['Fine Dining', 'Bar']\"\n",
      " \"['Casual Dining', 'Dessert Parlour']\" \"['Fine Dining', 'Wine Bar']\"\n",
      " \"['Casual Dining', 'Wine Bar']\" \"['Casual Dining', 'Bar']\"\n",
      " \"['Fast Food']\" \"['Café', 'Bakery']\" \"['Casual Dining', 'Café']\"\n",
      " \"['Bar']\" \"['Bakery', 'Dessert Parlour']\" \"['Bar', 'Wine Bar']\"\n",
      " \"['Food Court']\" \"['Dessert Parlour', 'Café']\" \"['Bar', 'Casual Dining']\"\n",
      " \"['Bakery', 'Pub']\" \"['Café', 'Casual Dining']\" \"['Café', 'Bar']\"\n",
      " \"['Casual Dining', 'Pub']\" \"['Bakery', 'Café']\" \"['Food Truck']\"\n",
      " \"['Café', 'Dessert Parlour']\" \"['Dessert Parlour']\" \"['Pub']\" nan\n",
      " \"['Pub', 'Casual Dining']\" \"['Dessert Parlour', 'Bakery']\"\n",
      " \"['Café', 'Wine Bar']\" \"['Pub', 'Wine Bar']\"\n",
      " \"['Food Court', 'Casual Dining']\" \"['Wine Bar', 'Casual Dining']\"\n",
      " \"['Casual Dining', 'Food Court']\" \"['Club', 'Bar']\"\n",
      " \"['Casual Dining', 'Bakery']\" \"['Bar', 'Pub']\" \"['Bar', 'Café']\"\n",
      " \"['Pub', 'Bar']\" \"['Beverage Shop']\" \"['Bakery']\" \"['Wine Bar']\"\n",
      " \"['Bar', 'Fine Dining']\" \"['Casual Dining', 'Fast Food']\" \"['Club']\"\n",
      " \"['Dessert Parlour', 'Food Court']\" \"['Café', 'Food Court']\"\n",
      " \"['Pub', 'Club']\" \"['Café', 'Beverage Shop']\" \"['Food Court', 'Café']\"\n",
      " \"['Fast Food', 'Food Court']\" \"['Food Court', 'Fast Food']\"\n",
      " \"['Club', 'Pub']\" \"['Bar', 'Club']\" \"['Dessert Parlour', 'Fast Food']\"\n",
      " \"['Club', 'Casual Dining']\" \"['Beverage Shop', 'Food Court']\"\n",
      " \"['Casual Dining', 'Food Stall']\" \"['Fast Food', 'Bar']\"\n",
      " \"['Bakery', 'Food Court']\" \"['Café', 'Fast Food']\"\n",
      " \"['Fast Food', 'Casual Dining']\" \"['Bakery', 'Casual Dining']\"\n",
      " \"['Fast Food', 'Food Truck']\" \"['Beverage Shop', 'Dessert Parlour']\"\n",
      " \"['Food Stall']\" \"['Food Court', 'Beverage Shop']\"]\n",
      "********** frequency **********\n",
      "type\n",
      "['Casual Dining']                    4854\n",
      "['Café']                             2767\n",
      "['Fast Food']                         557\n",
      "['Food Court']                        480\n",
      "['Pub']                               284\n",
      "                                     ... \n",
      "['Club', 'Casual Dining']               1\n",
      "['Dessert Parlour', 'Fast Food']        1\n",
      "['Dessert Parlour', 'Food Court']       1\n",
      "['Club', 'Pub']                         1\n",
      "['Food Court', 'Beverage Shop']         1\n",
      "Name: count, Length: 66, dtype: int64\n"
     ]
    }
   ],
   "source": [
    "explore_categorical(df, 'type')"
   ]
  },
  {
   "cell_type": "code",
   "execution_count": 22,
   "id": "2e6f3126-0f86-4079-8872-785747d52c55",
   "metadata": {},
   "outputs": [
    {
     "name": "stdout",
     "output_type": "stream",
     "text": [
      "********** missing values **********\n",
      "0\n",
      "********** Labels **********\n",
      "[False  True]\n",
      "********** frequency **********\n",
      "groupon\n",
      "False    10378\n",
      "True       122\n",
      "Name: count, dtype: int64\n"
     ]
    }
   ],
   "source": [
    "explore_categorical(df, 'groupon')"
   ]
  },
  {
   "cell_type": "markdown",
   "id": "7dabd442-22d9-444e-833b-c4b6ae679ab3",
   "metadata": {},
   "source": [
    "### Explore Numerical Variables"
   ]
  },
  {
   "cell_type": "code",
   "execution_count": 24,
   "id": "a25a357a-fd4b-4737-9c0b-9f8432c351b0",
   "metadata": {},
   "outputs": [
    {
     "name": "stdout",
     "output_type": "stream",
     "text": [
      "There are 4 numerical variables\n",
      "\n",
      "The numerical variables are : ['cost', 'rating_number', 'votes', 'cost_2']\n"
     ]
    }
   ],
   "source": [
    "# Find numerical variables\n",
    "numerical_columns = [var for var in df.columns if df[var].dtypes not in ['O','bool']]\n",
    "\n",
    "# Print results\n",
    "print('There are {} numerical variables\\n'.format(len(numerical_columns)))\n",
    "print('The numerical variables are :', numerical_columns)"
   ]
  },
  {
   "cell_type": "code",
   "execution_count": 25,
   "id": "ac7f1842-15a0-4a2a-baf1-a60cf627b71e",
   "metadata": {},
   "outputs": [
    {
     "data": {
      "text/plain": [
       "cost              346\n",
       "rating_number    3316\n",
       "votes            3316\n",
       "cost_2            346\n",
       "dtype: int64"
      ]
     },
     "execution_count": 25,
     "metadata": {},
     "output_type": "execute_result"
    }
   ],
   "source": [
    "# Check missing values in numerical variables\n",
    "df[numerical_columns].isnull().sum()"
   ]
  },
  {
   "cell_type": "code",
   "execution_count": 26,
   "id": "96a86555-9b22-4b24-a916-7b568e467734",
   "metadata": {},
   "outputs": [
    {
     "name": "stdout",
     "output_type": "stream",
     "text": [
      "          cost  rating_number   votes   cost_2\n",
      "count  10154.0         7184.0  7184.0  10154.0\n",
      "mean      51.0            3.0    84.0      5.0\n",
      "std       28.0            0.0   175.0      2.0\n",
      "min        8.0            2.0     4.0      2.0\n",
      "25%       30.0            3.0    12.0      4.0\n",
      "50%       45.0            3.0    32.0      5.0\n",
      "75%       60.0            4.0    87.0      6.0\n",
      "max      500.0            5.0  3236.0     40.0 2\n"
     ]
    }
   ],
   "source": [
    "# View summary statistics in numerical variables\n",
    "print(round(df[numerical_columns].describe()), 2)"
   ]
  },
  {
   "cell_type": "code",
   "execution_count": 27,
   "id": "87310738-64aa-4ca9-9ef9-4722133b2805",
   "metadata": {},
   "outputs": [
    {
     "data": {
      "image/png": "[encoded data removed]",
      "text/plain": [
       "<Figure size 1200x1000 with 4 Axes>"
      ]
     },
     "metadata": {},
     "output_type": "display_data"
    }
   ],
   "source": [
    "# Use boxplots to visualise outliers in these variables\n",
    "fig, axes = plt.subplots(2, 2, figsize=(12, 10))  \n",
    "\n",
    "df.boxplot(column='cost', ax=axes[0, 0])  \n",
    "axes[0, 0].set_title('Boxplot of Cost')\n",
    "axes[0, 0].set_xlabel('')\n",
    "axes[0, 0].set_ylabel('Cost')\n",
    "\n",
    "df.boxplot(column='rating_number', ax=axes[0, 1])  \n",
    "axes[0, 1].set_title('Boxplot of Rating Number')\n",
    "axes[0, 1].set_xlabel('')\n",
    "axes[0, 1].set_ylabel('Rating Number')\n",
    "\n",
    "df.boxplot(column='votes', ax=axes[1, 0])  \n",
    "axes[1, 0].set_title('Boxplot of Votes')\n",
    "axes[1, 0].set_xlabel('')\n",
    "axes[1, 0].set_ylabel('Votes')\n",
    "\n",
    "df.boxplot(column='cost_2', ax=axes[1, 1])  \n",
    "axes[1, 1].set_xlabel('')\n",
    "axes[1, 1].set_ylabel('Cost 2')\n",
    "\n",
    "# Print the plot\n",
    "plt.tight_layout()\n",
    "plt.show()"
   ]
  },
  {
   "cell_type": "code",
   "execution_count": 28,
   "id": "ad5e39da-bbbf-4029-8d0f-561f23182591",
   "metadata": {},
   "outputs": [],
   "source": [
    "# Find aoutliers in these variables\n",
    "def find_outliers(variable, factor= 3, print_summary=True):\n",
    "    IQR = df[variable].quantile(0.75) - df[variable].quantile(0.25)\n",
    "    Lower_boundary = df[variable].quantile(0.25) - (IQR * factor)\n",
    "    Upper_boundary = df[variable].quantile(0.75) + (IQR * factor)\n",
    "    \n",
    "    outliers= []\n",
    "    for index, val in enumerate(df[variable]):\n",
    "        if val < Lower_boundary or val > Upper_boundary:\n",
    "            outliers.append(index)\n",
    "    if(print_summary):\n",
    "        print('{variable} outliers are values < {lowerboundary} or > {upperboundary}'.format(variable= variable, lowerboundary=Lower_boundary, upperboundary=Upper_boundary))\n",
    "    return Lower_boundary, Upper_boundary, outliers"
   ]
  },
  {
   "cell_type": "code",
   "execution_count": 29,
   "id": "7fd1f35f-8285-41bf-9b7e-fc294c146fab",
   "metadata": {},
   "outputs": [
    {
     "name": "stdout",
     "output_type": "stream",
     "text": [
      "cost outliers are values < -60.0 or > 150.0\n"
     ]
    }
   ],
   "source": [
    "_,_,_ = find_outliers('cost')"
   ]
  },
  {
   "cell_type": "code",
   "execution_count": 30,
   "id": "f948cfbe-f924-4c7b-86a6-71e0cc499360",
   "metadata": {},
   "outputs": [
    {
     "name": "stdout",
     "output_type": "stream",
     "text": [
      "votes outliers are values < -213.0 or > 312.0\n"
     ]
    }
   ],
   "source": [
    "_,_,_ = find_outliers('votes')"
   ]
  },
  {
   "cell_type": "code",
   "execution_count": 31,
   "id": "e64b0628-c680-4230-b27b-ea2c129de410",
   "metadata": {},
   "outputs": [
    {
     "name": "stdout",
     "output_type": "stream",
     "text": [
      "rating_number outliers are values < 1.1999999999999997 or > 5.4\n"
     ]
    }
   ],
   "source": [
    "_,_,_ = find_outliers('rating_number')"
   ]
  },
  {
   "cell_type": "code",
   "execution_count": 32,
   "id": "6acd1c8a-7ed5-45ab-b4f1-1ef2cf4daa09",
   "metadata": {},
   "outputs": [
    {
     "name": "stdout",
     "output_type": "stream",
     "text": [
      "cost_2 outliers are values < -3.252032521 or > 12.967479676\n"
     ]
    }
   ],
   "source": [
    "_,_,_ = find_outliers('cost_2')"
   ]
  },
  {
   "cell_type": "markdown",
   "id": "4d189d4c-10d8-4c5e-ad33-a5f86b17528f",
   "metadata": {},
   "source": [
    "### Declare source and target variables"
   ]
  },
  {
   "cell_type": "code",
   "execution_count": 34,
   "id": "3b7e3407-a358-4e2f-a50d-905f8fb6bfa0",
   "metadata": {},
   "outputs": [],
   "source": [
    "X = df.drop(['rating_number'], axis=1)\n",
    "y = df['rating_number']"
   ]
  },
  {
   "cell_type": "markdown",
   "id": "72eccf59-91e9-4bfb-aa57-90a3d1caad40",
   "metadata": {},
   "source": [
    "### Feature engineering"
   ]
  },
  {
   "cell_type": "code",
   "execution_count": 36,
   "id": "3e6fc4a1-aefd-4941-864e-c4ca8412c30b",
   "metadata": {},
   "outputs": [
    {
     "data": {
      "text/plain": [
       "['cuisine', 'rating_text', 'subzone', 'type', 'groupon']"
      ]
     },
     "execution_count": 36,
     "metadata": {},
     "output_type": "execute_result"
    }
   ],
   "source": [
    "# Display categorical variables\n",
    "categorical_columns = [var for var in df.columns if df[var].dtype in ['O','bool']]\n",
    "categorical_columns"
   ]
  },
  {
   "cell_type": "code",
   "execution_count": 37,
   "id": "a1ba9ccf-699f-4ac3-8bec-57443137b363",
   "metadata": {},
   "outputs": [
    {
     "data": {
      "text/plain": [
       "['cost', 'rating_number', 'votes', 'cost_2']"
      ]
     },
     "execution_count": 37,
     "metadata": {},
     "output_type": "execute_result"
    }
   ],
   "source": [
    "# Display numerical variables\n",
    "numerical_columns = [var for var in df.columns if df[var].dtype not in ['O','bool']]\n",
    "numerical_columns"
   ]
  },
  {
   "cell_type": "markdown",
   "id": "83e69164-3eeb-4793-b58e-668d6f0f1f10",
   "metadata": {},
   "source": [
    "### Engineering missing values in numerical variables"
   ]
  },
  {
   "cell_type": "code",
   "execution_count": 39,
   "id": "3b6f4962-2100-40a8-ba3a-ec4b14b63986",
   "metadata": {},
   "outputs": [
    {
     "data": {
      "text/plain": [
       "cost              346\n",
       "rating_number    3316\n",
       "votes            3316\n",
       "cost_2            346\n",
       "dtype: int64"
      ]
     },
     "execution_count": 39,
     "metadata": {},
     "output_type": "execute_result"
    }
   ],
   "source": [
    "# Display missing values\n",
    "df[numerical_columns].isnull().sum()"
   ]
  },
  {
   "cell_type": "code",
   "execution_count": 40,
   "id": "e949bbc2-3d19-4b5a-b0e2-cdbfb6131a38",
   "metadata": {},
   "outputs": [
    {
     "data": {
      "text/plain": [
       "cost             0.03\n",
       "rating_number    0.32\n",
       "votes            0.32\n",
       "cost_2           0.03\n",
       "dtype: float64"
      ]
     },
     "execution_count": 40,
     "metadata": {},
     "output_type": "execute_result"
    }
   ],
   "source": [
    "# Do the same for the text data\n",
    "round(df[numerical_columns].isnull().mean(), 2)"
   ]
  },
  {
   "cell_type": "code",
   "execution_count": 41,
   "id": "e0ad9656-a3c0-4e33-b18b-a1f513449e77",
   "metadata": {},
   "outputs": [
    {
     "data": {
      "text/plain": [
       "cost             0.03\n",
       "rating_number    0.32\n",
       "votes            0.32\n",
       "cost_2           0.03\n",
       "dtype: float64"
      ]
     },
     "execution_count": 41,
     "metadata": {},
     "output_type": "execute_result"
    }
   ],
   "source": [
    "# Percentage of missing values in each variable\n",
    "round(df[numerical_columns].isnull().mean(), 2)"
   ]
  },
  {
   "cell_type": "code",
   "execution_count": 42,
   "id": "eacc4619-013a-4e7e-ac40-3ca82cc5083c",
   "metadata": {},
   "outputs": [],
   "source": [
    "# Filling missing values with medians of the numerical columns\n",
    "for df_temp in [df]:\n",
    "    for col in numerical_columns:\n",
    "        col_median = df[col].median()  \n",
    "        df_temp[col] = df_temp[col].fillna(col_median)"
   ]
  },
  {
   "cell_type": "code",
   "execution_count": 43,
   "id": "44dd7ad0-8146-4ddc-bad8-bced2b6e5fdf",
   "metadata": {},
   "outputs": [
    {
     "data": {
      "text/plain": [
       "cost             0\n",
       "rating_number    0\n",
       "votes            0\n",
       "cost_2           0\n",
       "dtype: int64"
      ]
     },
     "execution_count": 43,
     "metadata": {},
     "output_type": "execute_result"
    }
   ],
   "source": [
    "# Check again missing values in numerical variables\n",
    "df[numerical_columns].isnull().sum()"
   ]
  },
  {
   "cell_type": "markdown",
   "id": "13e157a3-7744-42d4-8137-107c1727b069",
   "metadata": {},
   "source": [
    "### Engineering missing values in categorical variables"
   ]
  },
  {
   "cell_type": "code",
   "execution_count": 45,
   "id": "98d2bd5c-4209-4827-b01f-6b8a0c5d73a8",
   "metadata": {},
   "outputs": [
    {
     "data": {
      "text/plain": [
       "cuisine        0.00\n",
       "rating_text    0.32\n",
       "subzone        0.00\n",
       "type           0.00\n",
       "groupon        0.00\n",
       "dtype: float64"
      ]
     },
     "execution_count": 45,
     "metadata": {},
     "output_type": "execute_result"
    }
   ],
   "source": [
    "round(df[categorical_columns].isnull().mean(), 2)"
   ]
  },
  {
   "cell_type": "code",
   "execution_count": 46,
   "id": "e0a9defb-d04e-48d9-a8ad-a7c303457b71",
   "metadata": {},
   "outputs": [],
   "source": [
    "# Filling missing values with the most frequent value of the categorical columns\n",
    "for df_temp in [df]:\n",
    "    for col in categorical_columns:\n",
    "        col_mode = df[col].mode()[0]  \n",
    "        df_temp[col] = df_temp[col].fillna(col_mode)"
   ]
  },
  {
   "cell_type": "code",
   "execution_count": 47,
   "id": "8d37fcc8-0c68-487d-a874-bf6b47c3cce5",
   "metadata": {},
   "outputs": [
    {
     "data": {
      "text/plain": [
       "cuisine        0\n",
       "rating_text    0\n",
       "subzone        0\n",
       "type           0\n",
       "groupon        0\n",
       "dtype: int64"
      ]
     },
     "execution_count": 47,
     "metadata": {},
     "output_type": "execute_result"
    }
   ],
   "source": [
    "# Check missing values in categorical variables in X_train\n",
    "df[categorical_columns].isnull().sum()"
   ]
  },
  {
   "cell_type": "markdown",
   "id": "9149173c-2bee-4bbd-b457-3622abb5edaa",
   "metadata": {},
   "source": [
    "### Engineering outliers in numerical variables"
   ]
  },
  {
   "cell_type": "code",
   "execution_count": 49,
   "id": "bf4910ee-6c40-4fcb-989b-bf155040ebde",
   "metadata": {},
   "outputs": [],
   "source": [
    "# Replace the outliers with some predefined maximum value for each variable\n",
    "def max_value(df_temp, variable, top):\n",
    "    return np.where(df_temp[variable]>top, top, df_temp[variable])\n",
    "\n",
    "cols_with_outliers = {'cost': 150, \n",
    "                      'votes': 312, \n",
    "                      'cost_2': 13.0, \n",
    "                     }\n",
    "for df_temp in [df]:\n",
    "    for col in cols_with_outliers:\n",
    "        df_temp[col] = max_value(df_temp, col, cols_with_outliers[col])"
   ]
  },
  {
   "cell_type": "code",
   "execution_count": 50,
   "id": "4e1d545a-76a6-4bd5-9cc7-5eca112a72a8",
   "metadata": {},
   "outputs": [
    {
     "data": {
      "text/plain": [
       "(150.0, 150.0)"
      ]
     },
     "execution_count": 50,
     "metadata": {},
     "output_type": "execute_result"
    }
   ],
   "source": [
    "df.cost.max(), df.cost.max()"
   ]
  },
  {
   "cell_type": "code",
   "execution_count": 51,
   "id": "854fc9f7-142d-44af-a68d-07157e34ec21",
   "metadata": {},
   "outputs": [
    {
     "data": {
      "text/plain": [
       "(312.0, 312.0)"
      ]
     },
     "execution_count": 51,
     "metadata": {},
     "output_type": "execute_result"
    }
   ],
   "source": [
    "df.votes.max(), df.votes.max()"
   ]
  },
  {
   "cell_type": "code",
   "execution_count": 52,
   "id": "4c6a5760-bd5e-42ff-aefc-0b8d4814be13",
   "metadata": {},
   "outputs": [
    {
     "data": {
      "text/plain": [
       "(13.0, 13.0)"
      ]
     },
     "execution_count": 52,
     "metadata": {},
     "output_type": "execute_result"
    }
   ],
   "source": [
    "df.cost_2.max(), df.cost_2.max()"
   ]
  },
  {
   "cell_type": "code",
   "execution_count": 53,
   "id": "29b85b29-a806-4528-9eef-947ca60cfb8c",
   "metadata": {},
   "outputs": [
    {
     "data": {
      "image/png": "[encoded data removed]",
      "text/plain": [
       "<Figure size 1500x1000 with 1 Axes>"
      ]
     },
     "metadata": {},
     "output_type": "display_data"
    }
   ],
   "source": [
    "# Use Seaborn Library to plot elegant ones\n",
    "df_custom = df[['cost', 'votes', 'cost_2']]\n",
    "import seaborn as sns\n",
    "plt.figure(figsize=(15,10))\n",
    "ax = sns.boxplot(data=df_custom, orient=\"h\", palette=\"Set2\")"
   ]
  },
  {
   "cell_type": "markdown",
   "id": "363c3def-66c7-4abe-b484-1dc4dae94d69",
   "metadata": {},
   "source": [
    "### Engineering outliers in categorical variables"
   ]
  },
  {
   "cell_type": "code",
   "execution_count": 55,
   "id": "6726838b-ad4d-4c89-a7fb-f4d213f6e3bd",
   "metadata": {},
   "outputs": [
    {
     "name": "stdout",
     "output_type": "stream",
     "text": [
      "Value counts for cuisine:\n",
      "cuisine\n",
      "['Cafe']                                   0.166190\n",
      "['Thai']                                   0.051619\n",
      "['Chinese']                                0.042857\n",
      "['Modern Australian']                      0.032952\n",
      "['Indian']                                 0.027238\n",
      "                                             ...   \n",
      "['Cafe', 'Spanish', 'Italian', 'Tapas']    0.000095\n",
      "['Desserts', 'Steak', 'Tapas']             0.000095\n",
      "['Pub Food', 'Burger', 'Pizza']            0.000095\n",
      "['Cambodian', 'Vietnamese']                0.000095\n",
      "['Kebab', 'Burger', 'Fish and Chips']      0.000095\n",
      "Name: proportion, Length: 1759, dtype: float64\n",
      "\n",
      "\n",
      "Value counts for rating_text:\n",
      "rating_text\n",
      "Average      0.744476\n",
      "Good         0.182571\n",
      "Very Good    0.048190\n",
      "Poor         0.019905\n",
      "Excellent    0.004857\n",
      "Name: proportion, dtype: float64\n",
      "\n",
      "\n",
      "Value counts for subzone:\n",
      "subzone\n",
      "CBD                                         0.045333\n",
      "Surry Hills                                 0.024762\n",
      "Parramatta                                  0.021429\n",
      "Darlinghurst                                0.017905\n",
      "Chinatown                                   0.016571\n",
      "                                              ...   \n",
      "The Sydney Boulevard Hotel, Darlinghurst    0.000095\n",
      "Pullman Quay Grand Sydney Harbour, CBD      0.000095\n",
      "Chullora                                    0.000095\n",
      "Marriott Sydney Harbour, Circular Quay      0.000095\n",
      "Holiday Inn Old Sydney, The Rocks           0.000095\n",
      "Name: proportion, Length: 572, dtype: float64\n",
      "\n",
      "\n",
      "Value counts for type:\n",
      "type\n",
      "['Casual Dining']                    0.466857\n",
      "['Café']                             0.263524\n",
      "['Fast Food']                        0.053048\n",
      "['Food Court']                       0.045714\n",
      "['Pub']                              0.027048\n",
      "                                       ...   \n",
      "['Club', 'Casual Dining']            0.000095\n",
      "['Dessert Parlour', 'Fast Food']     0.000095\n",
      "['Dessert Parlour', 'Food Court']    0.000095\n",
      "['Club', 'Pub']                      0.000095\n",
      "['Food Court', 'Beverage Shop']      0.000095\n",
      "Name: proportion, Length: 66, dtype: float64\n",
      "\n",
      "\n",
      "Value counts for groupon:\n",
      "groupon\n",
      "False    0.988381\n",
      "True     0.011619\n",
      "Name: proportion, dtype: float64\n",
      "\n",
      "\n",
      "Percentage of rare categories in cuisine: 51.41%\n",
      "\n",
      "Percentage of rare categories in rating_text: 0.49%\n",
      "\n",
      "Percentage of rare categories in subzone: 80.36%\n",
      "\n",
      "Percentage of rare categories in type: 8.63%\n",
      "\n",
      "Percentage of rare categories in groupon: 0.00%\n",
      "\n"
     ]
    }
   ],
   "source": [
    "# Check outliers for categorical variables\n",
    "for column in categorical_columns:\n",
    "    print(f\"Value counts for {column}:\")\n",
    "    print(df[column].value_counts(normalize=True)) \n",
    "    print(\"\\n\")\n",
    "\n",
    "# Set a threshold\n",
    "threshold = 0.01  \n",
    "\n",
    "# Find outliers\n",
    "for column in categorical_columns:\n",
    "    # Calculate frequency of each column\n",
    "    value_counts = df[column].value_counts(normalize=True)  \n",
    "    # Find outliers\n",
    "    rare_categories = value_counts[value_counts < threshold].index  \n",
    "    # Calculate percentage of outline\n",
    "    rare_percentage = value_counts[value_counts < threshold].sum() * 100 \n",
    "    # Print the result\n",
    "    print(f\"Percentage of rare categories in {column}: {rare_percentage:.2f}%\\n\")"
   ]
  },
  {
   "cell_type": "markdown",
   "id": "f9af617d-987d-4672-a2a1-eaa4d0aff925",
   "metadata": {},
   "source": [
    "Based on the results above, the outliers in the categorical columns are either too high or too low in proportion. If the high-proportion categories are classified as \"other,\" it may significantly impact the modelling results. On the other hand, the low-proportion categories have limited sample sizes and are unlikely to influence the model. Therefore, I choose to ignore these outliers and not handle them separately."
   ]
  },
  {
   "cell_type": "code",
   "execution_count": 57,
   "id": "c1a2198c-34df-4597-b921-73ffae99ad0c",
   "metadata": {},
   "outputs": [
    {
     "name": "stdout",
     "output_type": "stream",
     "text": [
      "0        4\n",
      "1        1\n",
      "2        1\n",
      "3        1\n",
      "4        1\n",
      "        ..\n",
      "10495    0\n",
      "10496    0\n",
      "10497    0\n",
      "10498    0\n",
      "10499    0\n",
      "Name: rating_text_encoded, Length: 10500, dtype: int32\n",
      "0         61\n",
      "1        496\n",
      "2        513\n",
      "3        105\n",
      "4        100\n",
      "        ... \n",
      "10495    371\n",
      "10496    250\n",
      "10497    377\n",
      "10498    453\n",
      "10499    344\n",
      "Name: subzone_encoded, Length: 10500, dtype: int32\n"
     ]
    }
   ],
   "source": [
    "from sklearn.preprocessing import LabelEncoder\n",
    "# Label Encoding for 'rating_text'\n",
    "label_encoder = LabelEncoder()\n",
    "df['rating_text_encoded'] = label_encoder.fit_transform(df['rating_text'])\n",
    "print(df['rating_text_encoded'])\n",
    "\n",
    "df['subzone_encoded'] = label_encoder.fit_transform(df['subzone'])\n",
    "print(df['subzone_encoded'])"
   ]
  },
  {
   "cell_type": "markdown",
   "id": "e7d9f5f3-3595-4737-ac3c-5df3382feb99",
   "metadata": {},
   "source": [
    "## Question 2 Regression"
   ]
  },
  {
   "cell_type": "code",
   "execution_count": 59,
   "id": "c2ca842b-746c-42e0-b523-00a4e5985d38",
   "metadata": {},
   "outputs": [],
   "source": [
    "# Import necessary libraries\n",
    "from sklearn.model_selection import train_test_split\n",
    "from sklearn.linear_model import LinearRegression\n",
    "from sklearn.metrics import mean_squared_error\n",
    "from sklearn.preprocessing import StandardScaler\n",
    "from sklearn.linear_model import SGDRegressor"
   ]
  },
  {
   "cell_type": "code",
   "execution_count": 60,
   "id": "6badaa43-ddd2-4e02-a43c-513d3581fa6a",
   "metadata": {},
   "outputs": [
    {
     "name": "stdout",
     "output_type": "stream",
     "text": [
      "Index(['cost', 'cuisine', 'rating_number', 'rating_text', 'subzone', 'type',\n",
      "       'votes', 'groupon', 'cost_2', 'rating_text_encoded', 'subzone_encoded'],\n",
      "      dtype='object')\n"
     ]
    }
   ],
   "source": [
    "print(df.columns)"
   ]
  },
  {
   "cell_type": "code",
   "execution_count": 61,
   "id": "a94997f4-68df-48e9-8cf7-888483a487c6",
   "metadata": {},
   "outputs": [],
   "source": [
    "from sklearn.model_selection import train_test_split\n",
    "\n",
    "# Define target variable and features\n",
    "X = df[['cost', 'votes', 'rating_text_encoded', 'subzone_encoded']]\n",
    "y = df['rating_number']\n",
    "\n",
    "# Split train and test data\n",
    "X_train, X_test, y_train, y_test = train_test_split(X, y, test_size=0.2, random_state=0)"
   ]
  },
  {
   "cell_type": "markdown",
   "id": "23352e92-2437-4b3b-ab8c-5e955c1f06e4",
   "metadata": {},
   "source": [
    "### Regression model 1"
   ]
  },
  {
   "cell_type": "code",
   "execution_count": 63,
   "id": "fb154af4-ec9d-452f-af7b-37c12adffaa8",
   "metadata": {},
   "outputs": [
    {
     "name": "stdout",
     "output_type": "stream",
     "text": [
      "Mean Squared Error for model_regression_1: 0.06446406337629314\n"
     ]
    }
   ],
   "source": [
    "# Linear regression model 1\n",
    "model_regression_1 = LinearRegression()\n",
    "model_regression_1.fit(X_train, y_train)\n",
    "\n",
    "# Predict the test set\n",
    "y_pred_1 = model_regression_1.predict(X_test)\n",
    "\n",
    "# Calculate MSE\n",
    "mse_1 = mean_squared_error(y_test, y_pred_1)\n",
    "print(f'Mean Squared Error for model_regression_1: {mse_1}')"
   ]
  },
  {
   "cell_type": "code",
   "execution_count": 64,
   "id": "be4c29d0-e1c6-4402-889e-6bdf048b18ea",
   "metadata": {},
   "outputs": [
    {
     "data": {
      "image/png": "[encoded data removed]",
      "text/plain": [
       "<Figure size 1000x800 with 1 Axes>"
      ]
     },
     "metadata": {},
     "output_type": "display_data"
    }
   ],
   "source": [
    "# Visulization\n",
    "plt.figure(figsize=(10, 8))\n",
    "plt.scatter(y_test, y_pred_1, alpha=0.5, label=\"Predictions (Model 1)\")\n",
    "plt.xlabel(\"Actual Ratings\")  \n",
    "plt.ylabel(\"Predicted Ratings\") \n",
    "plt.title(\"Actual vs. Predicted Ratings of model 1\")  \n",
    "\n",
    "# Add a diagonal line for reference (perfect predictions)\n",
    "plt.plot([min(y_test), max(y_test)], [min(y_test), max(y_test)], color='red', lw=1)\n",
    "\n",
    "# Print the plot\n",
    "plt.legend()\n",
    "plt.show()\n"
   ]
  },
  {
   "cell_type": "markdown",
   "id": "41d5f4de-3b70-4668-8a56-870c34bda045",
   "metadata": {},
   "source": [
    "### Linear regression model 2"
   ]
  },
  {
   "cell_type": "code",
   "execution_count": 66,
   "id": "65362308-d3cf-4d41-bb3e-d8ab58c84ca2",
   "metadata": {},
   "outputs": [
    {
     "name": "stdout",
     "output_type": "stream",
     "text": [
      "Mean Squared Error for model_regression_2 after scaling: 0.06438221890415394\n"
     ]
    }
   ],
   "source": [
    "# Standardize the training and test sets\n",
    "scaler = StandardScaler()\n",
    "X_train_scaled = scaler.fit_transform(X_train)\n",
    "X_test_scaled = scaler.transform(X_test)\n",
    "\n",
    "# Build linear regression model 2 using Gradient Descent\n",
    "model_regression_2 = SGDRegressor(max_iter=1000, tol=1e-3, eta0=0.01)\n",
    "model_regression_2.fit(X_train_scaled, y_train)\n",
    "\n",
    "# Predict the test set\n",
    "y_pred_2 = model_regression_2.predict(X_test_scaled)\n",
    "\n",
    "# Calculate MSE\n",
    "mse_2 = mean_squared_error(y_test, y_pred_2)\n",
    "print(f\"Mean Squared Error for model_regression_2 after scaling: {mse_2}\")"
   ]
  },
  {
   "cell_type": "code",
   "execution_count": 67,
   "id": "2f0eeefb-2860-44b5-978a-affae286724f",
   "metadata": {},
   "outputs": [
    {
     "data": {
      "image/png": "[encoded data removed]",
      "text/plain": [
       "<Figure size 1000x800 with 1 Axes>"
      ]
     },
     "metadata": {},
     "output_type": "display_data"
    }
   ],
   "source": [
    "# Visulization\n",
    "plt.figure(figsize=(10, 8))\n",
    "plt.scatter(y_test, y_pred_2, alpha=0.5, label=\"Predictions (Model 2)\")\n",
    "plt.xlabel(\"Actual Ratings\")\n",
    "plt.ylabel(\"Predicted Ratings\")\n",
    "plt.title(\"Actual vs. Predicted Ratings of Model 2\")\n",
    "plt.plot([min(y_test), max(y_test)], [min(y_test), max(y_test)], color='red', lw=1)\n",
    "\n",
    "# Print the plot\n",
    "plt.legend()\n",
    "plt.show()"
   ]
  },
  {
   "cell_type": "markdown",
   "id": "18b308ac-39fd-4536-87e2-6b2086b5ecb5",
   "metadata": {},
   "source": [
    "### Question 3 Classification"
   ]
  },
  {
   "cell_type": "code",
   "execution_count": 69,
   "id": "648e3acf-93ad-4caf-bf23-9bf59854ec6a",
   "metadata": {},
   "outputs": [],
   "source": [
    "# Import necessary libraries\n",
    "from sklearn.preprocessing import LabelEncoder, OneHotEncoder\n",
    "from sklearn.metrics import confusion_matrix, classification_report\n",
    "from sklearn.model_selection import train_test_split\n",
    "from sklearn.linear_model import LogisticRegression"
   ]
  },
  {
   "cell_type": "code",
   "execution_count": 70,
   "id": "03492e7d-1f62-4863-80ec-c282dec2f876",
   "metadata": {},
   "outputs": [
    {
     "name": "stdout",
     "output_type": "stream",
     "text": [
      "Confusion Matrix:\n",
      " [[1594   37]\n",
      " [   1  468]]\n",
      "Classification Report:\n",
      "               precision    recall  f1-score   support\n",
      "\n",
      "           1       1.00      0.98      0.99      1631\n",
      "           2       0.93      1.00      0.96       469\n",
      "\n",
      "    accuracy                           0.98      2100\n",
      "   macro avg       0.96      0.99      0.97      2100\n",
      "weighted avg       0.98      0.98      0.98      2100\n",
      "\n"
     ]
    }
   ],
   "source": [
    "# Simplify the problem into binary classifications\n",
    "df['binary_rating'] = df['rating_text'].apply(lambda x: 1 if x in ['Poor', 'Average'] else 2)\n",
    "\n",
    "# Define the features (X) and target (y)\n",
    "X = df[['cost', 'votes', 'cost_2', 'rating_text_encoded', 'subzone_encoded']]\n",
    "y = df['binary_rating']\n",
    "\n",
    "# Split the data into training and testing sets (80% train, 20% test)\n",
    "X_train, X_test, y_train, y_test = train_test_split(X, y, test_size=0.2, random_state=0)\n",
    "\n",
    "# Build a logistic regression model 3\n",
    "model_classification_3 = LogisticRegression(max_iter=1000)\n",
    "model_classification_3.fit(X_train, y_train)\n",
    "\n",
    "# Make predictions on the test set\n",
    "y_pred = model_classification_3.predict(X_test)\n",
    "\n",
    "# Confusion matrix\n",
    "conf_matrix = confusion_matrix(y_test, y_pred)\n",
    "print(\"Confusion Matrix:\\n\", conf_matrix)\n",
    "\n",
    "# Generate a classification report\n",
    "class_report = classification_report(y_test, y_pred)\n",
    "print(\"Classification Report:\\n\", class_report)\n"
   ]
  },
  {
   "cell_type": "markdown",
   "id": "47963856-31a5-4641-a4fd-2002ac40871f",
   "metadata": {},
   "source": [
    "### Conclusion"
   ]
  },
  {
   "cell_type": "markdown",
   "id": "3ff9162d-b78a-491f-918e-4dd285570549",
   "metadata": {},
   "source": [
    "Based on the confusion matrix, this model made only 37 classification errors when predicting class 1, which means that although the model correctly identified most of the low-rated restaurants, 37 samples were still misclassified. However, when predicting class 2, no classification errors occurred. The model's average accuracy is 98%. This indicates that this logistic regression model is highly effective in classification and prediction, especially distinguishing high-rated restaurants."
   ]
  }
 ],
 "metadata": {
  "kernelspec": {
   "display_name": "Python 3 (ipykernel)",
   "language": "python",
   "name": "python3"
  },
  "language_info": {
   "codemirror_mode": {
    "name": "ipython",
    "version": 3
   },
   "file_extension": ".py",
   "mimetype": "text/x-python",
   "name": "python",
   "nbconvert_exporter": "python",
   "pygments_lexer": "ipython3",
   "version": "3.12.3"
  }
 },
 "nbformat": 4,
 "nbformat_minor": 5
}
